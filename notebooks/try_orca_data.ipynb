{
 "cells": [
  {
   "cell_type": "code",
   "execution_count": 1,
   "metadata": {},
   "outputs": [],
   "source": [
    "import os\n",
    "\n",
    "from ase import Atoms, io\n",
    "from humf_experiments.data.orca import orca_extract_all_frames_from_folder"
   ]
  },
  {
   "cell_type": "code",
   "execution_count": 2,
   "metadata": {},
   "outputs": [
    {
     "name": "stdout",
     "output_type": "stream",
     "text": [
      "importing frame ../nodes/run_orca/frames/frame_0\n",
      "importing frame ../nodes/run_orca/frames/frame_1\n",
      "importing frame ../nodes/run_orca/frames/frame_2\n",
      "importing frame ../nodes/run_orca/frames/frame_3\n",
      "importing frame ../nodes/run_orca/frames/frame_4\n",
      "importing frame ../nodes/run_orca/frames/frame_5\n",
      "importing frame ../nodes/run_orca/frames/frame_6\n",
      "importing frame ../nodes/run_orca/frames/frame_7\n",
      "importing frame ../nodes/run_orca/frames/frame_8\n",
      "importing frame ../nodes/run_orca/frames/frame_9\n",
      "importing frame ../nodes/run_orca/frames/frame_10\n",
      "importing frame ../nodes/run_orca/frames/frame_11\n",
      "importing frame ../nodes/run_orca/frames/frame_12\n",
      "importing frame ../nodes/run_orca/frames/frame_13\n",
      "importing frame ../nodes/run_orca/frames/frame_14\n",
      "importing frame ../nodes/run_orca/frames/frame_15\n",
      "importing frame ../nodes/run_orca/frames/frame_16\n",
      "importing frame ../nodes/run_orca/frames/frame_17\n",
      "importing frame ../nodes/run_orca/frames/frame_18\n",
      "importing frame ../nodes/run_orca/frames/frame_19\n",
      "importing frame ../nodes/run_orca/frames/frame_20\n",
      "importing frame ../nodes/run_orca/frames/frame_21\n",
      "importing frame ../nodes/run_orca/frames/frame_22\n"
     ]
    }
   ],
   "source": [
    "data = orca_extract_all_frames_from_folder(\"../nodes/run_orca/frames\")"
   ]
  },
  {
   "cell_type": "code",
   "execution_count": 3,
   "metadata": {},
   "outputs": [
    {
     "name": "stdout",
     "output_type": "stream",
     "text": [
      "{'energy': array(106.71355947), 'forces': array([[-146.28551991,   65.59739546,   72.86604439],\n",
      "       [ -38.01762548,   -8.47733642,   19.89789997],\n",
      "       [ -27.19032382,   42.56642217,   21.28377805],\n",
      "       [  30.82209236, -187.66537126,  -84.41963911],\n",
      "       [   1.4171551 ,  -12.84129496,   -5.3902155 ],\n",
      "       [   2.65965973,  -19.56743478,   -6.91873283],\n",
      "       [ 152.27421919,  104.09612509,  -19.25058344],\n",
      "       [   8.54014281,    6.36637001,   -0.24436995],\n",
      "       [  15.78020001,    9.92512469,    2.17581841]]), 'atoms': array(['O', 'H', 'H', 'O', 'H', 'H', 'O', 'H', 'H'], dtype='<U1'), 'energy_total': array(44.86184113), 'forces_total': array([[-371.66594012,  172.99311934,  122.06867041],\n",
      "       [ 155.9708294 ,   67.02830423,   81.82881926],\n",
      "       [   4.20164151, -140.33494236,  -89.84976726],\n",
      "       [ -74.48077504,   45.50736172, -121.98275514],\n",
      "       [-107.0616788 , -204.91589812,   12.37406343],\n",
      "       [ 216.44136103,  -60.66556459,   12.88010427],\n",
      "       [ -66.32156747,    7.79062449, -111.28352307],\n",
      "       [ 185.51399062,   56.78679459, -117.78438625],\n",
      "       [  57.40213886,   55.8102007 ,  211.74877435]]), 'positions': array([[2.741, 2.673, 2.686],\n",
      "       [2.654, 2.642, 2.66 ],\n",
      "       [2.724, 2.754, 2.735],\n",
      "       [2.672, 2.911, 2.808],\n",
      "       [2.716, 2.995, 2.8  ],\n",
      "       [2.579, 2.932, 2.799],\n",
      "       [2.485, 2.548, 2.723],\n",
      "       [2.406, 2.525, 2.772],\n",
      "       [2.464, 2.527, 2.632]])}\n"
     ]
    }
   ],
   "source": [
    "print(data[0])"
   ]
  },
  {
   "cell_type": "code",
   "execution_count": 4,
   "metadata": {},
   "outputs": [
    {
     "name": "stdout",
     "output_type": "stream",
     "text": [
      "dict_keys(['energy', 'forces', 'atoms', 'energy_total', 'forces_total', 'positions'])\n"
     ]
    }
   ],
   "source": [
    "print(data[0].keys())"
   ]
  },
  {
   "cell_type": "code",
   "execution_count": 5,
   "metadata": {},
   "outputs": [],
   "source": [
    "atoms_list = []\n",
    "for sample in data:\n",
    "    atoms = Atoms(\n",
    "        symbols=sample[\"atoms\"],\n",
    "        positions=sample[\"positions\"],\n",
    "        info={\n",
    "            \"energy\": sample[\"energy\"],\n",
    "            \"energy_total\": sample[\"energy_total\"],\n",
    "            \"forces\": sample[\"forces\"],\n",
    "            \"forces_total\": sample[\"forces_total\"],\n",
    "            \"test\": 3,\n",
    "        },\n",
    "    )\n",
    "    atoms_list.append(atoms)"
   ]
  },
  {
   "cell_type": "code",
   "execution_count": 11,
   "metadata": {},
   "outputs": [
    {
     "name": "stdout",
     "output_type": "stream",
     "text": [
      "Atoms(symbols='OH2OH2OH2', pbc=False)\n",
      "{'test': 3}\n",
      "[[2.741 2.673 2.686]\n",
      " [2.654 2.642 2.66 ]\n",
      " [2.724 2.754 2.735]\n",
      " [2.672 2.911 2.808]\n",
      " [2.716 2.995 2.8  ]\n",
      " [2.579 2.932 2.799]\n",
      " [2.485 2.548 2.723]\n",
      " [2.406 2.525 2.772]\n",
      " [2.464 2.527 2.632]]\n"
     ]
    }
   ],
   "source": [
    "print(atoms_list[0])\n",
    "print(atoms_list[0].info)\n",
    "print(atoms_list[0].positions)"
   ]
  },
  {
   "cell_type": "code",
   "execution_count": 7,
   "metadata": {},
   "outputs": [],
   "source": [
    "os.makedirs(\"outputs\", exist_ok=True)\n",
    "io.write(\"outputs/orca_frames.xyz\", atoms_list)"
   ]
  },
  {
   "cell_type": "code",
   "execution_count": 8,
   "metadata": {},
   "outputs": [],
   "source": [
    "atoms_list_2 = io.read(\"outputs/orca_frames.xyz\", index=\":\")"
   ]
  },
  {
   "cell_type": "code",
   "execution_count": 12,
   "metadata": {},
   "outputs": [
    {
     "name": "stdout",
     "output_type": "stream",
     "text": [
      "Atoms(symbols='OH2OH2OH2', pbc=False)\n",
      "{'test': 3}\n",
      "[[2.741 2.673 2.686]\n",
      " [2.654 2.642 2.66 ]\n",
      " [2.724 2.754 2.735]\n",
      " [2.672 2.911 2.808]\n",
      " [2.716 2.995 2.8  ]\n",
      " [2.579 2.932 2.799]\n",
      " [2.485 2.548 2.723]\n",
      " [2.406 2.525 2.772]\n",
      " [2.464 2.527 2.632]]\n"
     ]
    }
   ],
   "source": [
    "print(atoms_list_2[0])\n",
    "print(atoms_list_2[0].info)\n",
    "print(atoms_list_2[0].positions)"
   ]
  },
  {
   "cell_type": "code",
   "execution_count": null,
   "metadata": {},
   "outputs": [],
   "source": []
  }
 ],
 "metadata": {
  "kernelspec": {
   "display_name": ".venv",
   "language": "python",
   "name": "python3"
  },
  "language_info": {
   "codemirror_mode": {
    "name": "ipython",
    "version": 3
   },
   "file_extension": ".py",
   "mimetype": "text/x-python",
   "name": "python",
   "nbconvert_exporter": "python",
   "pygments_lexer": "ipython3",
   "version": "3.11.9"
  }
 },
 "nbformat": 4,
 "nbformat_minor": 2
}
